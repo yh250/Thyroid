{
 "cells": [
  {
   "cell_type": "code",
   "execution_count": null,
   "id": "initial_id",
   "metadata": {
    "collapsed": true
   },
   "outputs": [],
   "source": [
    ""
   ]
  },
  {
   "metadata": {
    "ExecuteTime": {
     "end_time": "2024-12-23T09:54:04.443048Z",
     "start_time": "2024-12-23T09:54:00.294231Z"
    }
   },
   "cell_type": "code",
   "source": [
    "# models/simple_cnn.py\n",
    "import tensorflow as tf\n",
    "\n",
    "def build_simple_cnn(input_shape, num_classes):\n",
    "    \"\"\"\n",
    "    Builds a CNN with three convolutional layers, max-pooling, dropout,\n",
    "    and two dense layers for classification.\n",
    "\n",
    "    Parameters:\n",
    "    - input_shape: tuple, shape of the input data (height, width, channels).\n",
    "    - num_classes: int, number of output classes.\n",
    "\n",
    "    Returns:\n",
    "    - model: tf.keras.Model, the compiled CNN model.\n",
    "    \"\"\"\n",
    "    model = tf.keras.Sequential([\n",
    "        # First Convolutional Block\n",
    "        tf.keras.layers.Conv2D(32, (3, 3), activation='relu', input_shape=input_shape),\n",
    "        tf.keras.layers.MaxPooling2D(pool_size=(2, 2)),\n",
    "\n",
    "        # Second Convolutional Block\n",
    "        tf.keras.layers.Conv2D(64, (3, 3), activation='relu'),\n",
    "        tf.keras.layers.MaxPooling2D(pool_size=(2, 2)),\n",
    "\n",
    "        # Third Convolutional Block\n",
    "        tf.keras.layers.Conv2D(128, (3, 3), activation='relu'),\n",
    "        tf.keras.layers.MaxPooling2D(pool_size=(2, 2)),\n",
    "\n",
    "        # Flatten the feature maps\n",
    "        tf.keras.layers.Flatten(),\n",
    "\n",
    "        # Fully Connected Layers\n",
    "        tf.keras.layers.Dense(128, activation='relu'),\n",
    "        tf.keras.layers.Dropout(0.5),  # Dropout layer to reduce overfitting\n",
    "        tf.keras.layers.Dense(64, activation='relu'),\n",
    "\n",
    "        # Output Layer\n",
    "        tf.keras.layers.Dense(num_classes, activation='softmax')  # For multi-class classification\n",
    "    ])\n",
    "\n",
    "    # Compile the model\n",
    "    model.compile(\n",
    "        optimizer=tf.keras.optimizers.Adam(),\n",
    "        loss='categorical_crossentropy',\n",
    "        metrics=['accuracy']\n",
    "    )\n",
    "\n",
    "    return model\n"
   ],
   "id": "6f821c7ce41a4f1c",
   "outputs": [],
   "execution_count": 1
  },
  {
   "metadata": {},
   "cell_type": "code",
   "outputs": [],
   "execution_count": null,
   "source": "",
   "id": "86d8707b1f075f05"
  }
 ],
 "metadata": {
  "kernelspec": {
   "display_name": "Python 3",
   "language": "python",
   "name": "python3"
  },
  "language_info": {
   "codemirror_mode": {
    "name": "ipython",
    "version": 2
   },
   "file_extension": ".py",
   "mimetype": "text/x-python",
   "name": "python",
   "nbconvert_exporter": "python",
   "pygments_lexer": "ipython2",
   "version": "2.7.6"
  }
 },
 "nbformat": 4,
 "nbformat_minor": 5
}
